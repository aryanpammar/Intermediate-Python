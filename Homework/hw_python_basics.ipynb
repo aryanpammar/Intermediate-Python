{
 "cells": [
  {
   "cell_type": "markdown",
   "id": "629380d9-8c55-42ab-a730-8c15e152f411",
   "metadata": {},
   "source": [
    "## **Question 1: User Data Cleaner and Analyzer**\n",
    "\n",
    "You are given a list of dictionaries, where each dictionary represents user data. Some of the data is incomplete. Your task is to process this data.\n",
    "\n",
    "**Your tasks:**\n",
    "1.  Create a new list called `cleaned_users` that contains only the users who have a value for *both* the `\"email\"` and `\"age\"` keys.\n",
    "2.  From the `cleaned_users` list, create a dictionary called `age_summary` with the following keys:\n",
    "    - `\"average_age\"`: The average age of all cleaned users (as a floating-point number).\n",
    "    - `\"adults\"`: A list of names of users who are 18 years or older.\n",
    "    - `\"minors\"`: A list of names of users who are under 18."
   ]
  },
  {
   "cell_type": "code",
   "execution_count": 1,
   "id": "6d275113-114a-4d5e-b18b-5fa58eb6d7c8",
   "metadata": {},
   "outputs": [],
   "source": [
    "user_data = [\n",
    "    {'name': 'Alice', 'age': 30, 'email': 'alice@example.com'},\n",
    "    {'name': 'Bob', 'age': None, 'email': 'bob@example.com'},\n",
    "    {'name': 'Charlie', 'age': 17, 'email': None},\n",
    "    {'name': 'David', 'age': 45, 'email': 'david@example.com'},\n",
    "    {'name': 'Eve', 'age': 16, 'email': 'eve@example.com'},\n",
    "    {'name': 'Frank', 'age': 22, 'email': None},\n",
    "]\n",
    "\n",
    "# Code here"
   ]
  },
  {
   "cell_type": "markdown",
   "id": "7f6cb8d0-3f5f-41aa-9e99-4cf47b2dce2a",
   "metadata": {},
   "source": [
    "## **Question 2: Common Words Analysis**\n",
    "\n",
    "You are given two strings, each representing a sentence. Your goal is to analyze the words that are common to both sentences.\n",
    "\n",
    "**Your tasks:**\n",
    "1.  Create a `set` of common words that appear in *both* `sentence1` and `sentence2`. Remember to handle case-insensitivity (treat \"Python\" and \"python\" as the same word) and remove punctuation.\n",
    "2.  Using a **dictionary comprehension**, create a dictionary called `common_word_lengths` where the keys are the common words and the values are the lengths of those words.\n",
    "3.  Create a final list called `long_common_words` that contains only the common words that are **4 characters or longer**, using a **list comprehension**.\n"
   ]
  },
  {
   "cell_type": "code",
   "execution_count": 2,
   "id": "f8269a90-0893-4a0d-b795-24178ecc3ff1",
   "metadata": {},
   "outputs": [],
   "source": [
    "sentence1 = \"Python is a powerful and versatile programming language.\"\n",
    "sentence2 = \"Data science in Python is a growing field.\"\n",
    "\n",
    "# Code here"
   ]
  },
  {
   "cell_type": "code",
   "execution_count": null,
   "id": "c140e0ad-eaa3-4c1d-bb57-991f3afd57dc",
   "metadata": {},
   "outputs": [],
   "source": []
  }
 ],
 "metadata": {
  "kernelspec": {
   "display_name": "python-class",
   "language": "python",
   "name": "python-class"
  },
  "language_info": {
   "codemirror_mode": {
    "name": "ipython",
    "version": 3
   },
   "file_extension": ".py",
   "mimetype": "text/x-python",
   "name": "python",
   "nbconvert_exporter": "python",
   "pygments_lexer": "ipython3",
   "version": "3.13.3"
  }
 },
 "nbformat": 4,
 "nbformat_minor": 5
}
