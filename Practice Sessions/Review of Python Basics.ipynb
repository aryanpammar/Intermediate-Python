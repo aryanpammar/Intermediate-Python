{
 "cells": [
  {
   "cell_type": "markdown",
   "id": "4ad1ed4c-8dea-4099-9351-e9eaee904084",
   "metadata": {},
   "source": [
    "This notebook is designed as a review of some fundamental Python concepts you should be comfortable with before diving into intermediate topics. We will cover:\n",
    "\n",
    "1.  **Control Flow** (`if`, `elif`, `else`)\n",
    "2.  **Loops** (`for`, `while`)\n",
    "3.  **Dictionaries**\n",
    "4.  **List Comprehensions**\n",
    "5.  **Iterables and Iterators**"
   ]
  },
  {
   "cell_type": "markdown",
   "id": "f9b257e6-f634-49fc-ad7b-cf9a8eedf0a7",
   "metadata": {},
   "source": [
    "Write a Python script that takes a numerical `score` and assigns a letter grade based on the following scale:\n",
    "- 90-100: \"A\"\n",
    "- 80-89: \"B\"\n",
    "- 70-79: \"C\"\n",
    "- 60-69: \"D\"\n",
    "- Below 60: \"F\"\n",
    "\n",
    "Print the resulting letter grade."
   ]
  },
  {
   "cell_type": "code",
   "execution_count": null,
   "id": "4bc54398-f898-4b83-996d-d79e397ff08d",
   "metadata": {},
   "outputs": [],
   "source": [
    "# Code here"
   ]
  },
  {
   "cell_type": "markdown",
   "id": "6a68391c-bcb1-4894-afca-fd78002937e8",
   "metadata": {},
   "source": [
    "Given the list `numbers`, write a `for` loop that iterates through the list and calculates the sum of **only the even numbers**. Print the final sum.\n"
   ]
  },
  {
   "cell_type": "code",
   "execution_count": null,
   "id": "1d2f0dae-fbfd-4c2e-a2c3-5cbc08586bbd",
   "metadata": {},
   "outputs": [],
   "source": [
    "# Code here"
   ]
  },
  {
   "cell_type": "markdown",
   "id": "2e13f4d9-cf5a-4685-935d-a58284fa0104",
   "metadata": {},
   "source": [
    "Create a dictionary called `user_profile` that contains the following information:\n",
    "- `name`: \"Alice\"\n",
    "- `age`: 30\n",
    "- `email`: \"alice@example.com\"\n",
    "- `is_active`: True\n",
    "\n",
    "Then, print a string that says: `\"User Alice is 30 years old and can be contacted at alice@example.com.\"` by accessing the dictionary's values.\n"
   ]
  },
  {
   "cell_type": "code",
   "execution_count": 1,
   "id": "b0f176a5-d463-4e82-8814-765a4e57c6d6",
   "metadata": {},
   "outputs": [],
   "source": [
    "# Code here"
   ]
  },
  {
   "cell_type": "markdown",
   "id": "e67d5563-42fb-4ea2-9b0d-f8493fcd6000",
   "metadata": {},
   "source": [
    "You have a dictionary of product prices. You need to create a *new* dictionary called `discounted_prices` where every price is reduced by 10%. Iterate through the `product_prices` dictionary to accomplish this.\n"
   ]
  },
  {
   "cell_type": "code",
   "execution_count": 3,
   "id": "7b939c26-54b8-4da0-9277-c59437362a57",
   "metadata": {},
   "outputs": [],
   "source": [
    "product_prices = {\n",
    "    \"Laptop\": 1200,\n",
    "    \"Mouse\": 25,\n",
    "    \"Keyboard\": 75,\n",
    "    \"Monitor\": 300\n",
    "}\n",
    "\n",
    "# Code here"
   ]
  },
  {
   "cell_type": "markdown",
   "id": "7e55e598-cc60-4f87-8e32-4df195fdbba2",
   "metadata": {},
   "source": [
    "Write code which, given a list L, produces a dictionary D where:\n",
    "\n",
    "The keys of D are the unique elements of L (i.e. each element of L appears only once).\n",
    "The value D[i] is the number of times that i appears in list L."
   ]
  },
  {
   "cell_type": "markdown",
   "id": "1fab8f3d-173d-4243-9b4d-19c5a86d492d",
   "metadata": {},
   "source": [
    "You are given a list of `words`. Use a list comprehension to create a new list called `long_words_upper` that contains only the words with more than 4 letters. The words in the new list should be in all uppercase."
   ]
  },
  {
   "cell_type": "code",
   "execution_count": 6,
   "id": "06771a62-f41b-4917-a0ee-ade681d4da71",
   "metadata": {},
   "outputs": [],
   "source": [
    "words = [\"python\", \"is\", \"a\", \"powerful\", \"language\", \"for\", \"data\"]\n",
    "\n",
    "# Code here"
   ]
  },
  {
   "cell_type": "code",
   "execution_count": null,
   "id": "8eb92eb5-bae1-412f-93b1-8012dee46a39",
   "metadata": {},
   "outputs": [],
   "source": []
  }
 ],
 "metadata": {
  "kernelspec": {
   "display_name": "python-class",
   "language": "python",
   "name": "python-class"
  },
  "language_info": {
   "codemirror_mode": {
    "name": "ipython",
    "version": 3
   },
   "file_extension": ".py",
   "mimetype": "text/x-python",
   "name": "python",
   "nbconvert_exporter": "python",
   "pygments_lexer": "ipython3",
   "version": "3.13.3"
  }
 },
 "nbformat": 4,
 "nbformat_minor": 5
}
